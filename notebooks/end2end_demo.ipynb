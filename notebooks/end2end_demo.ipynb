{
 "cells": [
  {
   "cell_type": "markdown",
   "metadata": {},
   "source": [
    "# Imports"
   ]
  },
  {
   "cell_type": "code",
   "execution_count": 2,
   "metadata": {},
   "outputs": [],
   "source": [
    "import os\n",
    "from typing import cast\n",
    "import pickle\n",
    "from collections import defaultdict\n",
    "\n",
    "from datasets import load_dataset, Dataset\n",
    "\n",
    "from delphi.constants import STATIC_ASSETS_DIR\n",
    "from delphi.eval import utils\n",
    "from delphi.eval import constants\n",
    "from delphi.eval.vis_per_token_model import visualize_per_token_category\n",
    "\n",
    "# from delphi.eval.calc_model_group_stats import calc_model_group_stats\n",
    "from delphi.eval.spacy_token_labelling import TOKEN_LABELS"
   ]
  },
  {
   "cell_type": "markdown",
   "metadata": {},
   "source": [
    "# Data"
   ]
  },
  {
   "cell_type": "code",
   "execution_count": 3,
   "metadata": {},
   "outputs": [],
   "source": [
    "# load data\n",
    "tokenized_corpus_dataset = cast(Dataset, load_dataset(\n",
    "    constants.tokenized_corpus_dataset,\n",
    "    split=\"validation\"\n",
    "))\n",
    "\n",
    "# TODO: convert to use static paths\n",
    "# with open(\"../src/delphi/eval/labelled_token_ids_dict.pkl\", \"rb\") as f:\n",
    "#     token_groups = pickle.load(f)\n",
    "# model_group_stats = calc_model_group_stats(\n",
    "#     tokenized_corpus_dataset, logprob_datasets, token_groups, token_groups[0].keys()\n",
    "# )\n",
    "with open(f\"{STATIC_ASSETS_DIR}/model_group_stats.pkl\", \"rb\") as f:\n",
    "    model_group_stats = pickle.load(f)\n",
    "\n",
    "logprob_datasets = utils.load_logprob_datasets(\"validation\")\n"
   ]
  },
  {
   "cell_type": "markdown",
   "metadata": {},
   "source": [
    "# Visualization"
   ]
  },
  {
   "cell_type": "code",
   "execution_count": 4,
   "metadata": {},
   "outputs": [
    {
     "data": {
      "application/vnd.jupyter.widget-view+json": {
       "model_id": "d6c18c9588f3499b94e89ccea5954780",
       "version_major": 2,
       "version_minor": 0
      },
      "text/plain": [
       "VBox(children=(Dropdown(description='Token Category:', options=('Capitalized', 'Is Determiner', 'Is Interjunct…"
      ]
     },
     "execution_count": 4,
     "metadata": {},
     "output_type": "execute_result"
    }
   ],
   "source": [
    "performance_data = defaultdict(dict)\n",
    "for model in constants.LLAMA2_MODELS:\n",
    "    for token_group_desc in TOKEN_LABELS:\n",
    "        if (model, token_group_desc) not in model_group_stats:\n",
    "            continue\n",
    "        stats = model_group_stats[(model, token_group_desc)]\n",
    "        performance_data[model][token_group_desc] = (\n",
    "            -stats[\"median\"],\n",
    "            -stats[\"75th\"],\n",
    "            -stats[\"25th\"],\n",
    "        )\n",
    "\n",
    "visualize_per_token_category(\n",
    "    performance_data,\n",
    "    log_scale=True,\n",
    "    bg_color=\"LightGrey\",\n",
    "    line_color=\"Red\",\n",
    "    marker_color=\"Orange\",\n",
    "    bar_color=\"Green\",\n",
    ")"
   ]
  }
 ],
 "metadata": {
  "kernelspec": {
   "display_name": "tinyevals",
   "language": "python",
   "name": "python3"
  },
  "language_info": {
   "codemirror_mode": {
    "name": "ipython",
    "version": 3
   },
   "file_extension": ".py",
   "mimetype": "text/x-python",
   "name": "python",
   "nbconvert_exporter": "python",
   "pygments_lexer": "ipython3",
   "version": "3.10.13"
  }
 },
 "nbformat": 4,
 "nbformat_minor": 2
}
