{
 "cells": [
  {
   "cell_type": "code",
   "execution_count": 6,
   "metadata": {},
   "outputs": [],
   "source": [
    "import torch\n",
    "import pickle\n",
    "import random\n",
    "\n",
    "\n",
    "from datasets import load_dataset, Dataset\n",
    "\n",
    "\n",
    "from typing import cast\n",
    "from numbers import Number\n",
    "\n",
    "\n",
    "from transformers import AutoTokenizer\n",
    "from delphi.constants import STATIC_ASSETS_DIR\n",
    "from delphi.eval.token_positions import get_all_tok_metrics_in_label\n",
    "\n",
    "device = torch.device(\"cuda\" if torch.cuda.is_available() else \"cpu\")"
   ]
  },
  {
   "cell_type": "code",
   "execution_count": 3,
   "metadata": {},
   "outputs": [],
   "source": [
    "tokenizer = AutoTokenizer.from_pretrained(\"delphi-suite/stories-tokenizer\")\n",
    "token_ids = cast(\n",
    "    Dataset,\n",
    "    load_dataset(\n",
    "        \"delphi-suite/v0-tinystories-v2-clean-tokenized\", split=\"validation[:10]\"\n",
    "    ),\n",
    ")\n",
    "next_logprobs_100k = cast(\n",
    "    Dataset,\n",
    "    load_dataset(\"delphi-suite/v0-next-logprobs-llama2-100k\", split=\"validation[:10]\"),\n",
    ").with_format(\"torch\")\n",
    "next_logprobs_400k = cast(\n",
    "    Dataset,\n",
    "    load_dataset(\"delphi-suite/v0-next-logprobs-llama2-400k\", split=\"validation[:10]\"),\n",
    ").with_format(\"torch\")\n",
    "token_map = cast(Dataset, load_dataset(\"delphi-suite/v0-token-map\", split=\"validation\"))\n",
    "\n",
    "token_labels_filename = \"labelled_token_ids_dict.pkl\"\n",
    "with open(f\"{STATIC_ASSETS_DIR.joinpath(token_labels_filename)}\", \"rb\") as f:\n",
    "    token_labels = pickle.load(f)"
   ]
  },
  {
   "cell_type": "code",
   "execution_count": 4,
   "metadata": {},
   "outputs": [],
   "source": [
    "diff = next_logprobs_400k[\"logprobs\"] - next_logprobs_100k[\"logprobs\"]  # type: ignore\n",
    "pos_map = get_all_tok_metrics_in_label(\n",
    "    token_ids, token_labels, diff, \"Is Noun\", 0.3, 0.6\n",
    ")"
   ]
  },
  {
   "cell_type": "code",
   "execution_count": 35,
   "metadata": {},
   "outputs": [],
   "source": [
    "# TODO: visualization function that turns dict[tuple[int, int], Number] an interactive html display\n",
    "def vis_pos_map(\n",
    "    pos_map: dict[tuple[int, int], Number],\n",
    "    token_ids: Dataset,\n",
    "    token_labels: dict[tuple[int, int], str],\n",
    "    sample: int = 3,\n",
    "):\n",
    "    # choose n random keys from pos_map\n",
    "    keys = random.sample(list(pos_map.keys()), k=sample)\n",
    "\n",
    "    for key in keys:\n",
    "        prompt, pos = key\n",
    "        print(f\"Position pair: {key}\")\n",
    "        print(f\"Prompt: {tokenizer.decode(token_ids['tokens'][prompt][:pos + 1])}\")\n",
    "        print(f\"Token: {tokenizer.decode(token_ids['tokens'][prompt][pos])}\")\n",
    "        print(f\"Value: {pos_map[key]}\")\n",
    "        print()"
   ]
  },
  {
   "cell_type": "code",
   "execution_count": 36,
   "metadata": {},
   "outputs": [
    {
     "name": "stdout",
     "output_type": "stream",
     "text": [
      "Position pair: (2, 180)\n",
      "Prompt: on her bed. But then, something unexpected happened. A big wind came through her window and blew all the pretty things away!\n",
      "Lily was sad, but she did not give up. She decided to make her own beautiful things to decorate her room. She made paper flowers and painted pretty pictures. In the end, her room was more beautiful than before, and she reached her goal.<s> Once upon a time, there was a soldier named Tom. He lived in a small house with his friend, a cat named Max. They were very close and liked to play together.\n",
      "One day, Tom wanted to buy an expensive toy. Max did not like the idea. Max said, \"No, Tom. We don't need the expensive toy. Let's play with our old toys.\" Tom and Max started to disagree. They both talked about the toy for a long\n",
      "Token: long\n",
      "Value: 0.27616387605667114\n",
      "\n",
      "Position pair: (3, 152)\n",
      "Prompt: 's share the tree. You can live on one side, and I can live on the other side.\" The little bird agreed, and they both raised their families in the big oak tree. They became good friends and lived happily ever after.<s> Tom and Lily are friends. They like to play in the park. There is a big tree in the park. Tom and Lily want to climb the tree.\n",
      "\"Can you climb the tree?\" Tom asks Lily.\n",
      "\"I don't know. It is very high.\" Lily says.\n",
      "\"Let me help you. Give me your hand.\" Tom says.\n",
      "Tom holds Lily's hand and helps her climb the tree. They reach a big branch and sit on it. They\n",
      "Token: They\n",
      "Value: 0.2871934175491333\n",
      "\n",
      "Position pair: (6, 247)\n",
      "Prompt: and cat did not know that inside the ball was a big, warm blanket. When the ball reached the bottom of the hill, it opened, and the blanket came out. The dog and cat were so happy and warm as they went back down the hill.<s> One day, a little boy named Tim went to church with his mom. It was a big church with many hidden rooms. Tim liked to play hide and seek in the church.\n",
      "As they walked around, Tim saw a door he had never seen before. He asked his mom, \"What is in there?\" His mom said, \"That is a special room where we count the number of people who come to church.\"\n",
      "Tim wanted to see the room, so his mom opened the door. Inside, they found a big party! There were balloons, cake, and lots of people. Tim's friends were there too. They all yelled, \"Surprise!\"\n",
      "It was Tim's birthday, and everyone had planned a hidden party for him in the church. Tim was so happy and couldn't believe the surprise. They all played games, ate cake, and had a great time.<s> Lily and Max were playing in the park\n",
      "Token: park\n",
      "Value: 0.13964366912841797\n",
      "\n"
     ]
    }
   ],
   "source": [
    "vis_pos_map(pos_map, token_ids, token_labels, 3)"
   ]
  },
  {
   "cell_type": "code",
   "execution_count": null,
   "metadata": {},
   "outputs": [],
   "source": []
  }
 ],
 "metadata": {
  "kernelspec": {
   "display_name": ".venv",
   "language": "python",
   "name": "python3"
  },
  "language_info": {
   "codemirror_mode": {
    "name": "ipython",
    "version": 3
   },
   "file_extension": ".py",
   "mimetype": "text/x-python",
   "name": "python",
   "nbconvert_exporter": "python",
   "pygments_lexer": "ipython3",
   "version": "3.10.6"
  }
 },
 "nbformat": 4,
 "nbformat_minor": 2
}
