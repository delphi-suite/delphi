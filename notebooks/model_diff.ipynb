{
 "cells": [
  {
   "cell_type": "code",
   "execution_count": 6,
   "metadata": {},
   "outputs": [],
   "source": [
    "import torch\n",
    "import pickle\n",
    "import random\n",
    "\n",
    "\n",
    "from datasets import load_dataset, Dataset\n",
    "\n",
    "\n",
    "from typing import cast\n",
    "from numbers import Number\n",
    "\n",
    "\n",
    "from transformers import AutoTokenizer\n",
    "from delphi.constants import STATIC_ASSETS_DIR\n",
    "from delphi.eval.token_positions import get_all_tok_metrics_in_label\n",
    "\n",
    "# from delphi.train.utils import get_device\n",
    "\n",
    "device = torch.device(\"cuda\" if torch.cuda.is_available() else \"cpu\")"
   ]
  },
  {
   "cell_type": "code",
   "execution_count": 7,
   "metadata": {},
   "outputs": [
    {
     "data": {
      "application/vnd.jupyter.widget-view+json": {
       "model_id": "2df9f572455542bebd2d852ce9da6bdb",
       "version_major": 2,
       "version_minor": 0
      },
      "text/plain": [
       "Map:   0%|          | 0/10982 [00:00<?, ? examples/s]"
      ]
     },
     "metadata": {},
     "output_type": "display_data"
    },
    {
     "data": {
      "application/vnd.jupyter.widget-view+json": {
       "model_id": "8cb0602a61414d94aefe8693b55322f3",
       "version_major": 2,
       "version_minor": 0
      },
      "text/plain": [
       "Map:   0%|          | 0/10982 [00:00<?, ? examples/s]"
      ]
     },
     "metadata": {},
     "output_type": "display_data"
    }
   ],
   "source": [
    "tokenizer = AutoTokenizer.from_pretrained(\"delphi-suite/stories-tokenizer\")\n",
    "token_ids = cast(\n",
    "    Dataset,\n",
    "    load_dataset(\"delphi-suite/v0-tinystories-v2-clean-tokenized\", split=\"validation\"),\n",
    ")\n",
    "next_logprobs_100k = (\n",
    "    cast(\n",
    "        Dataset,\n",
    "        load_dataset(\"delphi-suite/v0-next-logprobs-llama2-100k\", split=\"validation\"),\n",
    "    )\n",
    "    .with_format(\"torch\")\n",
    "    .map(lambda x: {\"logprobs\": x[\"logprobs\"].to(device)})\n",
    ")  # i wonder if there is a better way to send this to the gpu\n",
    "next_logprobs_400k = (\n",
    "    cast(\n",
    "        Dataset,\n",
    "        load_dataset(\"delphi-suite/v0-next-logprobs-llama2-400k\", split=\"validation\"),\n",
    "    )\n",
    "    .with_format(\"torch\")\n",
    "    .map(lambda x: {\"logprobs\": x[\"logprobs\"].to(device)})\n",
    ")\n",
    "\n",
    "token_labels_filename = \"labelled_token_ids_dict.pkl\"\n",
    "with open(f\"{STATIC_ASSETS_DIR.joinpath(token_labels_filename)}\", \"rb\") as f:\n",
    "    token_labels = pickle.load(f)"
   ]
  },
  {
   "cell_type": "code",
   "execution_count": 8,
   "metadata": {},
   "outputs": [
    {
     "name": "stdout",
     "output_type": "stream",
     "text": [
      "CPU times: total: 9.44 s\n",
      "Wall time: 7.7 s\n"
     ]
    }
   ],
   "source": [
    "%%time\n",
    "diff = next_logprobs_400k[\"logprobs\"] - next_logprobs_100k[\"logprobs\"]  # type: ignore\n",
    "pos_map = get_all_tok_metrics_in_label(\n",
    "    token_ids, token_labels, diff, \"Is Noun\", 0.9, 1.0\n",
    ")"
   ]
  },
  {
   "cell_type": "code",
   "execution_count": 9,
   "metadata": {},
   "outputs": [],
   "source": [
    "# TODO: visualization function that turns dict[tuple[int, int], Number] an interactive html display\n",
    "def vis_pos_map(\n",
    "    pos_map: dict[tuple[int, int], Number],\n",
    "    token_ids: Dataset,\n",
    "    sample: int = 3,\n",
    "):\n",
    "    # choose n random keys from pos_map\n",
    "    keys = random.sample(list(pos_map.keys()), k=sample)\n",
    "\n",
    "    for key in keys:\n",
    "        prompt, pos = key\n",
    "        print(f\"Position pair: {key}\")\n",
    "        print(f\"Prompt: {tokenizer.decode(token_ids['tokens'][prompt][:pos + 1])}\")\n",
    "        print(f\"Token: {tokenizer.decode(token_ids['tokens'][prompt][pos])}\")\n",
    "        print(f\"Value: {pos_map[key]}\")\n",
    "        print()"
   ]
  },
  {
   "cell_type": "code",
   "execution_count": 10,
   "metadata": {},
   "outputs": [
    {
     "name": "stdout",
     "output_type": "stream",
     "text": [
      "Position pair: (2765, 414)\n",
      "Prompt: a big red ball. He wanted to play with it.\n",
      "\"Mom, can I have the ball?\" Tim asked. His mom said yes, and they bought the ball. Tim was so happy. He played with the ball all day.\n",
      "The next day, Tim played with the ball outside. He kicked it very hard, and it hit a tree. The ball fell down and got dirty. Tim was sad. His mom saw him and said, \"Don't worry, Tim. We can wipe the ball clean.\"\n",
      "Tim wiped the ball with a cloth. It was clean again. But when he kicked it, his foot hurt a little. He told his mom, and she said, \"It's okay, Tim. Just be careful next time.\"\n",
      "Tim played with the ball more gently. He had lots of fun and did not get hurt again.<s> Once upon a time, there was a little boy named Tim. Tim liked to observe the sun. He would look up at the sky and see the big, bright sun shining down on him.\n",
      "One day, Tim met a silly bird. The bird was flying around and making funny noises. Tim thought the bird was a little bit stupid because it didn't know how to fly straight.\n",
      "Tim and the stupid bird became friends. They would play together under the sun. They would watch the sun go up and down. And they were happy.<s> Anna likes to learn new things. She likes to draw, to sing, to count and to read. She has many books and crayons in her drawer. She likes to take them out and play with them.\n",
      "One day, Anna wants to learn how to write her name. She takes out a paper and a crayon from her drawer. She asks her mom to help her. \"Mom, can you show me how to write Anna?\" she says.\n",
      "\"Sure, sweetie. I can help you. Writing is fun. Look, this is how you write A.\" Mom\n",
      "Token: Mom\n",
      "Value: 2.052692413330078\n",
      "\n",
      "Position pair: (9560, 129)\n",
      "Prompt: , she missed the nest and felt very scared. After a while she explored the outside world and made some wonderful new friends. She flew around the sky, seen things she had never seen before and she had a lot of fun. She learned different skills and became very courageous. \n",
      "The little bird returned to the nest and thanked her father for making her leave, so she can experience the world. She realized that the nest was a safe place, but it was also important that she learnt how to handle different situations and how to discover new things. \n",
      "The story of the little\n",
      "Token: little\n",
      "Value: 2.0323848724365234\n",
      "\n",
      "Position pair: (5996, 370)\n",
      "Prompt: them. They understood the importance of behaving and it made their park visits much more fun.<s> Once upon a time, in a small house, a boy named Tim had a box of original paint. He loved to paint pretty pictures on the wall. One day, his friend Sue came to play with him.\n",
      "\"Tim, can I come paint with you?\" asked Sue. Tim said, \"Yes, Sue, you can come paint with me. Let's make a big, fun picture on the wall!\"\n",
      "Tim and Sue started to paint. They were having so much fun. They painted a big sun, green trees, and blue water. They laughed and played as they painted.\n",
      "But then, Tim's mom came into the room. She saw the paint on the wall and was very mad. \"Tim and Sue, you made a big mess! You cannot paint on the wall!\" she said. Tim and Sue were sad. They knew they had done something bad.\n",
      "Tim's mom made them clean the wall. The pretty picture was gone. Tim and Sue were not allowed to play with the paint for a long time. They learned that they should always ask before they do something like that.<s> One day, a little girl named Amy was very tired. She woke up late and missed her breakfast. Her tummy was making noises because she was hungry. She went to the kitchen and saw her mom making toast. \n",
      "\"Mom, can I have some toast, please?\" asked Amy. Her mom smiled and said, \"Of course, my dear. I know you missed breakfast, so I am making toast just for you.\"\n",
      "Amy was so happy. She sat at the table and waited for her toast. Her mom gave her a plate with two yummy pieces\n",
      "Token: pieces\n",
      "Value: 2.4761061668395996\n",
      "\n"
     ]
    }
   ],
   "source": [
    "vis_pos_map(pos_map, token_ids, 3)"
   ]
  },
  {
   "cell_type": "code",
   "execution_count": null,
   "metadata": {},
   "outputs": [],
   "source": []
  }
 ],
 "metadata": {
  "kernelspec": {
   "display_name": ".venv",
   "language": "python",
   "name": "python3"
  },
  "language_info": {
   "codemirror_mode": {
    "name": "ipython",
    "version": 3
   },
   "file_extension": ".py",
   "mimetype": "text/x-python",
   "name": "python",
   "nbconvert_exporter": "python",
   "pygments_lexer": "ipython3",
   "version": "3.10.6"
  }
 },
 "nbformat": 4,
 "nbformat_minor": 2
}
