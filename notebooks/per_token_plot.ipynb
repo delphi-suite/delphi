{
 "cells": [
  {
   "cell_type": "code",
   "execution_count": 1,
   "metadata": {},
   "outputs": [
    {
     "data": {
      "application/vnd.jupyter.widget-view+json": {
       "model_id": "9e971e03344f4b608cfc2b588a477238",
       "version_major": 2,
       "version_minor": 0
      },
      "text/plain": [
       "FigureWidget({\n",
       "    'data': [{'line': {'width': 0},\n",
       "              'marker': {'color': '#444'},\n",
       "              'mode': 'lines',\n",
       "              'name': 'Upper Bound',\n",
       "              'showlegend': False,\n",
       "              'type': 'scatter',\n",
       "              'uid': '4a40445f-0502-42f2-878b-9a9f03d66717',\n",
       "              'x': [0, 1, 2, ..., 497, 498, 499],\n",
       "              'y': array([2.34006592, 2.41241021, 2.57781922, ..., 2.56474203, 2.59573629,\n",
       "                          2.43304471])},\n",
       "             {'fill': 'tonexty',\n",
       "              'fillcolor': 'rgba(68, 68, 68, 0.3)',\n",
       "              'line': {'width': 0},\n",
       "              'marker': {'color': '#444'},\n",
       "              'mode': 'lines',\n",
       "              'name': 'Lower Bound',\n",
       "              'showlegend': False,\n",
       "              'type': 'scatter',\n",
       "              'uid': 'a08f2c43-1513-4042-bd1e-f1f01e28a0ef',\n",
       "              'x': [0, 1, 2, ..., 497, 498, 499],\n",
       "              'y': array([0.93626447, 0.9302987 , 0.99836227, ..., 0.95607835, 0.76146911,\n",
       "                          0.81709211])},\n",
       "             {'marker': {'color': 'rgb(31, 119, 180)', 'line': {'color': 'rgb(31, 119, 180)', 'width': 1}, 'size': 0},\n",
       "              'mode': 'lines',\n",
       "              'name': 'Means',\n",
       "              'type': 'scatter',\n",
       "              'uid': 'da46ea5a-dfe8-4613-80fa-33805fabd2fb',\n",
       "              'x': [0, 1, 2, ..., 497, 498, 499],\n",
       "              'y': array([1.3701917 , 1.4372206 , 1.53251235, ..., 1.55583357, 1.50179179,\n",
       "                          1.45715223])}],\n",
       "    'layout': {'template': '...'}\n",
       "})"
      ]
     },
     "execution_count": 1,
     "metadata": {},
     "output_type": "execute_result"
    }
   ],
   "source": [
    "from collections import defaultdict\n",
    "import math\n",
    "import random\n",
    "import numpy as np\n",
    "\n",
    "from delphi.eval.vis_per_token_model import visualize_per_token_category\n",
    "\n",
    "\n",
    "random.seed(0)\n",
    "\n",
    "# generate mock data\n",
    "# model_names = ['llama2-100k', 'llama2-200k', 'llama2-1m', 'llama2-10m', \"0\"]\n",
    "model_names = list(range(500))\n",
    "categories = ['nouns', 'verbs', 'prepositions', 'adjectives']\n",
    "entries = [200, 100, 150, 300, 100]*100\n",
    "performance_data = defaultdict()\n",
    "for i, model in enumerate(model_names):\n",
    "    performance_data[model] = defaultdict()\n",
    "    for cat in categories:\n",
    "        x = [math.log2(random.random()) for _ in range(entries[i])]\n",
    "        means = np.mean(x)\n",
    "        err_low = means - np.percentile(x, 25)\n",
    "        err_hi = np.percentile(x, 75) - means\n",
    "        performance_data[model][cat] = (-means, err_low, err_hi)\n",
    "\n",
    "\n",
    "visualize_per_token_category(performance_data, log_scale=True, checkpoint_mode=True)"
   ]
  },
  {
   "cell_type": "code",
   "execution_count": 2,
   "metadata": {},
   "outputs": [
    {
     "data": {
      "application/vnd.jupyter.widget-view+json": {
       "model_id": "d951d67fc372475bab98e84db51c0cbc",
       "version_major": 2,
       "version_minor": 0
      },
      "text/plain": [
       "FigureWidget({\n",
       "    'data': [{'line': {'width': 0},\n",
       "              'marker': {'color': 'wheat'},\n",
       "              'mode': 'lines',\n",
       "              'name': 'Upper Bound',\n",
       "              'showlegend': False,\n",
       "              'type': 'scatter',\n",
       "              'uid': '274f7f1b-21af-41bb-8c00-6fa385439bff',\n",
       "              'x': [0, 1, 2, ..., 497, 498, 499],\n",
       "              'y': array([2.34006592, 2.41241021, 2.57781922, ..., 2.56474203, 2.59573629,\n",
       "                          2.43304471])},\n",
       "             {'fill': 'tonexty',\n",
       "              'fillcolor': 'wheat',\n",
       "              'line': {'width': 0},\n",
       "              'marker': {'color': 'wheat'},\n",
       "              'mode': 'lines',\n",
       "              'name': 'Lower Bound',\n",
       "              'showlegend': False,\n",
       "              'type': 'scatter',\n",
       "              'uid': '050ad540-2443-452c-8f2c-e4d218640318',\n",
       "              'x': [0, 1, 2, ..., 497, 498, 499],\n",
       "              'y': array([0.93626447, 0.9302987 , 0.99836227, ..., 0.95607835, 0.76146911,\n",
       "                          0.81709211])},\n",
       "             {'marker': {'color': 'Orange', 'line': {'color': 'Orange', 'width': 1}, 'size': 0},\n",
       "              'mode': 'lines',\n",
       "              'name': 'Median',\n",
       "              'type': 'scatter',\n",
       "              'uid': '27c3cec6-4e36-4e3b-9083-7b9bec371542',\n",
       "              'x': [0, 1, 2, ..., 497, 498, 499],\n",
       "              'y': array([1.3701917 , 1.4372206 , 1.53251235, ..., 1.55583357, 1.50179179,\n",
       "                          1.45715223])}],\n",
       "    'layout': {'template': '...'}\n",
       "})"
      ]
     },
     "execution_count": 2,
     "metadata": {},
     "output_type": "execute_result"
    }
   ],
   "source": [
    "visualize_per_token_category(performance_data, log_scale=True, checkpoint_mode=True, line_metric=\"Median\", line_color='Orange' , shade_color=\"wheat\")"
   ]
  }
 ],
 "metadata": {
  "kernelspec": {
   "display_name": ".venv",
   "language": "python",
   "name": "python3"
  },
  "language_info": {
   "codemirror_mode": {
    "name": "ipython",
    "version": 3
   },
   "file_extension": ".py",
   "mimetype": "text/x-python",
   "name": "python",
   "nbconvert_exporter": "python",
   "pygments_lexer": "ipython3",
   "version": "3.10.0"
  }
 },
 "nbformat": 4,
 "nbformat_minor": 2
}
