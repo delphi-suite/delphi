{
 "cells": [
  {
   "cell_type": "code",
   "execution_count": 4,
   "metadata": {},
   "outputs": [
    {
     "data": {
      "application/vnd.jupyter.widget-view+json": {
       "model_id": "deb5a98615624e32b91fb3fc4d155c7a",
       "version_major": 2,
       "version_minor": 0
      },
      "text/plain": [
       "FigureWidget({\n",
       "    'data': [{'line': {'width': 0},\n",
       "              'marker': {'color': '#444'},\n",
       "              'mode': 'lines',\n",
       "              'name': 'Upper Bound',\n",
       "              'showlegend': False,\n",
       "              'type': 'scatter',\n",
       "              'uid': '4dcf6b1c-9b26-425e-be14-ba73fde289fb',\n",
       "              'x': [0, 1, 2, ..., 497, 498, 499],\n",
       "              'y': array([2.34006592, 2.41241021, 2.57781922, ..., 2.56474203, 2.59573629,\n",
       "                          2.43304471])},\n",
       "             {'fill': 'tonexty',\n",
       "              'fillcolor': 'rgba(68, 68, 68, 0.3)',\n",
       "              'line': {'width': 0},\n",
       "              'marker': {'color': '#444'},\n",
       "              'mode': 'lines',\n",
       "              'name': 'Lower Bound',\n",
       "              'showlegend': False,\n",
       "              'type': 'scatter',\n",
       "              'uid': 'c0a55b83-d045-4faa-9285-a927058cad75',\n",
       "              'x': [0, 1, 2, ..., 497, 498, 499],\n",
       "              'y': array([0.93626447, 0.9302987 , 0.99836227, ..., 0.95607835, 0.76146911,\n",
       "                          0.81709211])},\n",
       "             {'marker': {'color': 'rgb(31, 119, 180)', 'line': {'color': 'rgb(31, 119, 180)', 'width': 1}, 'size': 0},\n",
       "              'mode': 'lines',\n",
       "              'name': 'Means',\n",
       "              'type': 'scatter',\n",
       "              'uid': 'c4c0a68b-efa3-4930-aa0c-3c17451e3d2e',\n",
       "              'x': [0, 1, 2, ..., 497, 498, 499],\n",
       "              'y': array([1.3701917 , 1.4372206 , 1.53251235, ..., 1.55583357, 1.50179179,\n",
       "                          1.45715223])}],\n",
       "    'layout': {'template': '...'}\n",
       "})"
      ]
     },
     "execution_count": 4,
     "metadata": {},
     "output_type": "execute_result"
    }
   ],
   "source": [
    "from collections import defaultdict\n",
    "import math\n",
    "import random\n",
    "import numpy as np\n",
    "\n",
    "from delphi.eval.vis_per_token_model import visualize_per_token_category\n",
    "\n",
    "\n",
    "random.seed(0)\n",
    "\n",
    "# generate mock data\n",
    "# model_names = ['llama2-100k', 'llama2-200k', 'llama2-1m', 'llama2-10m', \"0\"]\n",
    "model_names = list(range(500))\n",
    "categories = ['nouns', 'verbs', 'prepositions', 'adjectives']\n",
    "entries = [200, 100, 150, 300, 100]*100\n",
    "performance_data = defaultdict()\n",
    "for i, model in enumerate(model_names):\n",
    "    performance_data[model] = defaultdict()\n",
    "    for cat in categories:\n",
    "        x = [math.log2(random.random()) for _ in range(entries[i])]\n",
    "        means = np.mean(x)\n",
    "        err_low = means - np.percentile(x, 25)\n",
    "        err_hi = np.percentile(x, 75) - means\n",
    "        performance_data[model][cat] = (-means, err_low, err_hi)\n",
    "\n",
    "\n",
    "visualize_per_token_category(performance_data, log_scale=True, checkpoint_mode=True)"
   ]
  },
  {
   "cell_type": "code",
   "execution_count": 5,
   "metadata": {},
   "outputs": [
    {
     "data": {
      "application/vnd.jupyter.widget-view+json": {
       "model_id": "4550d6e8c4f74396b180fd1223c4c3b2",
       "version_major": 2,
       "version_minor": 0
      },
      "text/plain": [
       "FigureWidget({\n",
       "    'data': [{'line': {'width': 0},\n",
       "              'marker': {'color': 'wheat'},\n",
       "              'mode': 'lines',\n",
       "              'name': 'Upper Bound',\n",
       "              'showlegend': False,\n",
       "              'type': 'scatter',\n",
       "              'uid': '453a6e83-3b4f-4090-b8ea-6c8945dba824',\n",
       "              'x': [0, 1, 2, ..., 497, 498, 499],\n",
       "              'y': array([2.34006592, 2.41241021, 2.57781922, ..., 2.56474203, 2.59573629,\n",
       "                          2.43304471])},\n",
       "             {'fill': 'tonexty',\n",
       "              'fillcolor': 'wheat',\n",
       "              'line': {'width': 0},\n",
       "              'marker': {'color': 'wheat'},\n",
       "              'mode': 'lines',\n",
       "              'name': 'Lower Bound',\n",
       "              'showlegend': False,\n",
       "              'type': 'scatter',\n",
       "              'uid': '4128f987-e0a9-457c-ab4a-c0547589c988',\n",
       "              'x': [0, 1, 2, ..., 497, 498, 499],\n",
       "              'y': array([0.93626447, 0.9302987 , 0.99836227, ..., 0.95607835, 0.76146911,\n",
       "                          0.81709211])},\n",
       "             {'marker': {'color': 'Orange', 'line': {'color': 'Orange', 'width': 1}, 'size': 0},\n",
       "              'mode': 'lines',\n",
       "              'name': 'Median',\n",
       "              'type': 'scatter',\n",
       "              'uid': '06de0035-f3a6-4b79-aff2-5ae62130a5db',\n",
       "              'x': [0, 1, 2, ..., 497, 498, 499],\n",
       "              'y': array([1.3701917 , 1.4372206 , 1.53251235, ..., 1.55583357, 1.50179179,\n",
       "                          1.45715223])}],\n",
       "    'layout': {'template': '...'}\n",
       "})"
      ]
     },
     "execution_count": 5,
     "metadata": {},
     "output_type": "execute_result"
    }
   ],
   "source": [
    "visualize_per_token_category(performance_data, log_scale=True, checkpoint_mode=True, line_metric=\"Median\", line_color='Orange' , shade_color=\"wheat\")"
   ]
  }
 ],
 "metadata": {
  "kernelspec": {
   "display_name": ".venv",
   "language": "python",
   "name": "python3"
  },
  "language_info": {
   "codemirror_mode": {
    "name": "ipython",
    "version": 3
   },
   "file_extension": ".py",
   "mimetype": "text/x-python",
   "name": "python",
   "nbconvert_exporter": "python",
   "pygments_lexer": "ipython3",
   "version": "3.10.0"
  }
 },
 "nbformat": 4,
 "nbformat_minor": 2
}
