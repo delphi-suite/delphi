{
 "cells": [
  {
   "cell_type": "code",
   "execution_count": 1,
   "metadata": {},
   "outputs": [
    {
     "data": {
      "application/vnd.jupyter.widget-view+json": {
       "model_id": "6825ba6543ba45438b18cf0949576020",
       "version_major": 2,
       "version_minor": 0
      },
      "text/plain": [
       "VBox(children=(Dropdown(description='Token Category:', options=('nouns', 'verbs', 'prepositions', 'adjectives'…"
      ]
     },
     "execution_count": 1,
     "metadata": {},
     "output_type": "execute_result"
    }
   ],
   "source": [
    "from collections import defaultdict\n",
    "import math\n",
    "import random\n",
    "import numpy as np\n",
    "\n",
    "from delphi.eval.vis_per_token_model import visualize_per_token_category\n",
    "\n",
    "\n",
    "random.seed(0)\n",
    "\n",
    "# generate mock data\n",
    "model_names = ['llama2-100k', 'llama2-200k', 'llama2-1m', 'llama2-10m']\n",
    "categories = ['nouns', 'verbs', 'prepositions', 'adjectives']\n",
    "entries = [200, 100, 150, 300]\n",
    "performance_data = defaultdict()\n",
    "for i, model in enumerate(model_names):\n",
    "    performance_data[model] = defaultdict()\n",
    "    for cat in categories:\n",
    "        x = [math.log2(random.random()) for _ in range(entries[i])]\n",
    "        means = np.mean(x)\n",
    "        err_low = means - np.percentile(x, 25)\n",
    "        err_hi = np.percentile(x, 75) - means\n",
    "        performance_data[model][cat] = (-means, err_low, err_hi)\n",
    "\n",
    "\n",
    "visualize_per_token_category(performance_data)"
   ]
  }
 ],
 "metadata": {
  "kernelspec": {
   "display_name": ".venv",
   "language": "python",
   "name": "python3"
  },
  "language_info": {
   "codemirror_mode": {
    "name": "ipython",
    "version": 3
   },
   "file_extension": ".py",
   "mimetype": "text/x-python",
   "name": "python",
   "nbconvert_exporter": "python",
   "pygments_lexer": "ipython3",
   "version": "3.10.0"
  }
 },
 "nbformat": 4,
 "nbformat_minor": 2
}
