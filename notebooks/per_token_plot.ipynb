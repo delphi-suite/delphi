{
 "cells": [
  {
   "cell_type": "code",
   "execution_count": 1,
   "metadata": {},
   "outputs": [
    {
     "data": {
      "application/vnd.jupyter.widget-view+json": {
       "model_id": "fbda6a916fe84814be64a40423196d76",
       "version_major": 2,
       "version_minor": 0
      },
      "text/plain": [
       "FigureWidget({\n",
       "    'data': [{'line': {'width': 0},\n",
       "              'marker': {'color': 'rgba(68, 68, 68, 0.3)'},\n",
       "              'mode': 'lines',\n",
       "              'name': 'Upper Bound',\n",
       "              'showlegend': False,\n",
       "              'type': 'scatter',\n",
       "              'uid': 'a3590fcd-466d-4a73-b167-194ab728efcd',\n",
       "              'x': [0, 1, 2, ..., 497, 498, 499],\n",
       "              'y': array([2.34006592, 2.41241021, 2.57781922, ..., 2.56474203, 2.59573629,\n",
       "                          2.43304471])},\n",
       "             {'fill': 'tonexty',\n",
       "              'fillcolor': 'rgba(68, 68, 68, 0.3)',\n",
       "              'line': {'width': 0},\n",
       "              'marker': {'color': 'rgba(68, 68, 68, 0.3)'},\n",
       "              'mode': 'lines',\n",
       "              'name': 'Lower Bound',\n",
       "              'showlegend': False,\n",
       "              'type': 'scatter',\n",
       "              'uid': 'fda82808-c8ff-4b6c-878d-c76d66c8ce17',\n",
       "              'x': [0, 1, 2, ..., 497, 498, 499],\n",
       "              'y': array([0.93626447, 0.9302987 , 0.99836227, ..., 0.95607835, 0.76146911,\n",
       "                          0.81709211])},\n",
       "             {'marker': {'color': 'rgb(31, 119, 180)', 'line': {'color': 'rgb(31, 119, 180)', 'width': 1}, 'size': 0},\n",
       "              'mode': 'lines',\n",
       "              'name': 'Means',\n",
       "              'type': 'scatter',\n",
       "              'uid': 'b11dfbd0-c130-4a97-a8ff-b8c753b95035',\n",
       "              'x': [0, 1, 2, ..., 497, 498, 499],\n",
       "              'y': array([1.3701917 , 1.4372206 , 1.53251235, ..., 1.55583357, 1.50179179,\n",
       "                          1.45715223])}],\n",
       "    'layout': {'template': '...'}\n",
       "})"
      ]
     },
     "execution_count": 1,
     "metadata": {},
     "output_type": "execute_result"
    }
   ],
   "source": [
    "from collections import defaultdict\n",
    "import math\n",
    "import random\n",
    "import numpy as np\n",
    "\n",
    "from delphi.eval.vis_per_token_model import visualize_per_token_category\n",
    "\n",
    "\n",
    "random.seed(0)\n",
    "\n",
    "# generate mock data\n",
    "# model_names = ['llama2-100k', 'llama2-200k', 'llama2-1m', 'llama2-10m', \"0\"]\n",
    "model_names = list(range(500))\n",
    "categories = ['nouns', 'verbs', 'prepositions', 'adjectives']\n",
    "entries = [200, 100, 150, 300, 100]*100\n",
    "performance_data = defaultdict()\n",
    "for i, model in enumerate(model_names):\n",
    "    performance_data[model] = defaultdict()\n",
    "    for cat in categories:\n",
    "        x = [math.log2(random.random()) for _ in range(entries[i])]\n",
    "        means = np.mean(x)\n",
    "        err_low = means - np.percentile(x, 25)\n",
    "        err_hi = np.percentile(x, 75) - means\n",
    "        performance_data[model][cat] = (-means, err_low, err_hi)\n",
    "\n",
    "\n",
    "visualize_per_token_category(performance_data, log_scale=True, checkpoint_mode=True)"
   ]
  },
  {
   "cell_type": "code",
   "execution_count": 2,
   "metadata": {},
   "outputs": [
    {
     "data": {
      "application/vnd.jupyter.widget-view+json": {
       "model_id": "993e5d66ae56462a8eeec2c9ac6bd972",
       "version_major": 2,
       "version_minor": 0
      },
      "text/plain": [
       "FigureWidget({\n",
       "    'data': [{'line': {'width': 0},\n",
       "              'marker': {'color': 'wheat'},\n",
       "              'mode': 'lines',\n",
       "              'name': 'Upper Bound',\n",
       "              'showlegend': False,\n",
       "              'type': 'scatter',\n",
       "              'uid': '56999008-205c-4592-a3f7-ea61e3e09d8e',\n",
       "              'x': [0, 1, 2, ..., 497, 498, 499],\n",
       "              'y': array([2.34006592, 2.41241021, 2.57781922, ..., 2.56474203, 2.59573629,\n",
       "                          2.43304471])},\n",
       "             {'fill': 'tonexty',\n",
       "              'fillcolor': 'wheat',\n",
       "              'line': {'width': 0},\n",
       "              'marker': {'color': 'wheat'},\n",
       "              'mode': 'lines',\n",
       "              'name': 'Lower Bound',\n",
       "              'showlegend': False,\n",
       "              'type': 'scatter',\n",
       "              'uid': 'be8a04f1-b8c4-46af-bf5e-03c942eff19f',\n",
       "              'x': [0, 1, 2, ..., 497, 498, 499],\n",
       "              'y': array([0.93626447, 0.9302987 , 0.99836227, ..., 0.95607835, 0.76146911,\n",
       "                          0.81709211])},\n",
       "             {'marker': {'color': 'Orange', 'line': {'color': 'Orange', 'width': 1}, 'size': 0},\n",
       "              'mode': 'lines',\n",
       "              'name': 'Median',\n",
       "              'type': 'scatter',\n",
       "              'uid': '85fe5113-70fb-4aa7-9821-947287d84e1d',\n",
       "              'x': [0, 1, 2, ..., 497, 498, 499],\n",
       "              'y': array([1.3701917 , 1.4372206 , 1.53251235, ..., 1.55583357, 1.50179179,\n",
       "                          1.45715223])}],\n",
       "    'layout': {'template': '...'}\n",
       "})"
      ]
     },
     "execution_count": 2,
     "metadata": {},
     "output_type": "execute_result"
    }
   ],
   "source": [
    "visualize_per_token_category(performance_data, log_scale=True, checkpoint_mode=True, line_metric=\"Median\", line_color='Orange' , shade_color=\"wheat\")"
   ]
  }
 ],
 "metadata": {
  "kernelspec": {
   "display_name": ".venv",
   "language": "python",
   "name": "python3"
  },
  "language_info": {
   "codemirror_mode": {
    "name": "ipython",
    "version": 3
   },
   "file_extension": ".py",
   "mimetype": "text/x-python",
   "name": "python",
   "nbconvert_exporter": "python",
   "pygments_lexer": "ipython3",
   "version": "3.10.0"
  }
 },
 "nbformat": 4,
 "nbformat_minor": 2
}
