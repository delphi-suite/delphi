{
 "cells": [
  {
   "cell_type": "code",
   "execution_count": null,
   "metadata": {},
   "outputs": [],
   "source": [
    "from delphi.train.config.utils import load_preset\n",
    "from delphi.train.training import run_training\n",
    "from delphi.train.utils import ModelTrainingState\n",
    "from delphi.train.run_context import RunContext\n",
    "\n",
    "\n",
    "def train() -> tuple[ModelTrainingState, RunContext]:\n",
    "    config = load_preset(\"v0-llama2-100k\")\n",
    "    config.wandb_config.entity = \"jaiwithani\"\n",
    "    return run_training(config)\n",
    "\n",
    "model_train_result = train()"
   ]
  }
 ],
 "metadata": {
  "kernelspec": {
   "display_name": "tinyevals",
   "language": "python",
   "name": "python3"
  },
  "language_info": {
   "codemirror_mode": {
    "name": "ipython",
    "version": 3
   },
   "file_extension": ".py",
   "mimetype": "text/x-python",
   "name": "python",
   "nbconvert_exporter": "python",
   "pygments_lexer": "ipython3",
   "version": "3.10.13"
  }
 },
 "nbformat": 4,
 "nbformat_minor": 2
}
